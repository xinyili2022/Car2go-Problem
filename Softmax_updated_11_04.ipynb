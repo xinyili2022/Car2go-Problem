{
  "nbformat": 4,
  "nbformat_minor": 0,
  "metadata": {
    "colab": {
      "provenance": [],
      "toc_visible": true
    },
    "kernelspec": {
      "name": "python3",
      "display_name": "Python 3"
    },
    "language_info": {
      "name": "python"
    }
  },
  "cells": [
    {
      "cell_type": "code",
      "source": [
        "import pandas as pd\n",
        "import requests\n",
        "from google.colab import files"
      ],
      "metadata": {
        "id": "4mMTOYmVeQtC"
      },
      "execution_count": null,
      "outputs": []
    },
    {
      "cell_type": "code",
      "source": [
        "import numpy as np\n",
        "from datetime import datetime\n",
        "from math import sqrt"
      ],
      "metadata": {
        "id": "YRkcgX2pfTgy"
      },
      "execution_count": null,
      "outputs": []
    },
    {
      "cell_type": "markdown",
      "source": [
        "# Upload and Preprocess the Dataset"
      ],
      "metadata": {
        "id": "BplGvr9TZgHZ"
      }
    },
    {
      "cell_type": "code",
      "source": [
        "urls = [\n",
        "    \"http://pin13.net/car2go/data/2012-06.txt.gz\"]\n",
        "#    ,\n",
        "#    \"http://pin13.net/car2go/data/2012-07.txt.gz\",\n",
        "#    \"http://pin13.net/car2go/data/2012-08.txt.gz\",\n",
        "#    \"http://pin13.net/car2go/data/2012-09.txt.gz\",\n",
        "#    \"http://pin13.net/car2go/data/2012-10.txt.gz\",\n",
        "#    \"http://pin13.net/car2go/data/2012-12.txt.gz\",\n",
        "#    \"http://pin13.net/car2go/data/2013-01.txt.gz\",\n",
        "#    \"http://pin13.net/car2go/data/2013-02.txt.gz\",\n",
        "#    \"http://pin13.net/car2go/data/2013-03.txt.gz\",\n",
        "#    \"http://pin13.net/car2go/data/2013-04.txt.gz\",\n",
        "#    \"http://pin13.net/car2go/data/2013-05.txt.gz\",\n",
        "#    \"http://pin13.net/car2go/data/2013-06.txt.gz\",\n",
        "#    \"http://pin13.net/car2go/data/2013-07.txt.gz\",\n",
        "#    \"http://pin13.net/car2go/data/2013-08.txt.gz\",\n",
        "#    \"http://pin13.net/car2go/data/2013-09.txt.gz\",\n",
        "#    \"http://pin13.net/car2go/data/2013-10.txt.gz\",\n",
        "#    \"http://pin13.net/car2go/data/2013-11.txt.gz\"]\n",
        "\n",
        "for url in urls:\n",
        "    filename = url.split('/')[-1]\n",
        "\n",
        "    response = requests.get(url, stream=True)\n",
        "    response.raise_for_status()\n",
        "\n",
        "    with open(filename, 'wb') as file:\n",
        "        for chunk in response.iter_content(chunk_size=8192):\n",
        "            file.write(chunk)\n",
        "\n",
        "#    print(f\"File {filename} downloaded successfully!\")"
      ],
      "metadata": {
        "id": "a0CzfpRcaGMx"
      },
      "execution_count": null,
      "outputs": []
    },
    {
      "cell_type": "code",
      "source": [
        "#combine the dataset\n",
        "filenames = [\"2012-06.txt.gz\"]\n",
        "\n",
        "#filenames = [\n",
        "    #\"2012-06.txt.gz\",\n",
        "    #\"2012-07.txt.gz\"\n",
        "   # ]\n",
        "\n",
        "Data = pd.concat([pd.read_csv(f) for f in filenames],ignore_index=True)"
      ],
      "metadata": {
        "id": "j6t6l1nxbDsK"
      },
      "execution_count": null,
      "outputs": []
    },
    {
      "cell_type": "code",
      "source": [
        "print(Data.shape)"
      ],
      "metadata": {
        "colab": {
          "base_uri": "https://localhost:8080/"
        },
        "id": "CzFNSXACg9R5",
        "outputId": "dbd94426-a397-407b-ecdf-462b0226ed9e"
      },
      "execution_count": null,
      "outputs": [
        {
          "output_type": "stream",
          "name": "stdout",
          "text": [
            "(582304, 7)\n"
          ]
        }
      ]
    },
    {
      "cell_type": "code",
      "source": [
        "Data.head()"
      ],
      "metadata": {
        "colab": {
          "base_uri": "https://localhost:8080/",
          "height": 206
        },
        "id": "3MKcDCilnz3L",
        "outputId": "113d3810-44ae-420a-c603-df0be3463d7f"
      },
      "execution_count": null,
      "outputs": [
        {
          "output_type": "execute_result",
          "data": {
            "text/plain": [
              "                  date  license   latitude   longitude   fuel  interior  \\\n",
              "0  2012-06-01 20:58:56   191FRH  45.471205 -122.648474    100      true   \n",
              "1  2012-06-01 20:58:56   158FRH  45.558546 -122.709414     87      true   \n",
              "2  2012-06-01 20:58:56   192FRH  45.515036 -122.629782     54      true   \n",
              "3  2012-06-01 20:58:56   196FRH  45.554366 -122.671270    100      true   \n",
              "4  2012-06-01 20:58:56   197FRH  45.562482 -122.632860     48      true   \n",
              "\n",
              "   exterior  \n",
              "0      true  \n",
              "1      true  \n",
              "2      true  \n",
              "3      true  \n",
              "4      true  "
            ],
            "text/html": [
              "\n",
              "  <div id=\"df-d6d8f690-23d0-4d51-8113-b7a91eef92b3\" class=\"colab-df-container\">\n",
              "    <div>\n",
              "<style scoped>\n",
              "    .dataframe tbody tr th:only-of-type {\n",
              "        vertical-align: middle;\n",
              "    }\n",
              "\n",
              "    .dataframe tbody tr th {\n",
              "        vertical-align: top;\n",
              "    }\n",
              "\n",
              "    .dataframe thead th {\n",
              "        text-align: right;\n",
              "    }\n",
              "</style>\n",
              "<table border=\"1\" class=\"dataframe\">\n",
              "  <thead>\n",
              "    <tr style=\"text-align: right;\">\n",
              "      <th></th>\n",
              "      <th>date</th>\n",
              "      <th>license</th>\n",
              "      <th>latitude</th>\n",
              "      <th>longitude</th>\n",
              "      <th>fuel</th>\n",
              "      <th>interior</th>\n",
              "      <th>exterior</th>\n",
              "    </tr>\n",
              "  </thead>\n",
              "  <tbody>\n",
              "    <tr>\n",
              "      <th>0</th>\n",
              "      <td>2012-06-01 20:58:56</td>\n",
              "      <td>191FRH</td>\n",
              "      <td>45.471205</td>\n",
              "      <td>-122.648474</td>\n",
              "      <td>100</td>\n",
              "      <td>true</td>\n",
              "      <td>true</td>\n",
              "    </tr>\n",
              "    <tr>\n",
              "      <th>1</th>\n",
              "      <td>2012-06-01 20:58:56</td>\n",
              "      <td>158FRH</td>\n",
              "      <td>45.558546</td>\n",
              "      <td>-122.709414</td>\n",
              "      <td>87</td>\n",
              "      <td>true</td>\n",
              "      <td>true</td>\n",
              "    </tr>\n",
              "    <tr>\n",
              "      <th>2</th>\n",
              "      <td>2012-06-01 20:58:56</td>\n",
              "      <td>192FRH</td>\n",
              "      <td>45.515036</td>\n",
              "      <td>-122.629782</td>\n",
              "      <td>54</td>\n",
              "      <td>true</td>\n",
              "      <td>true</td>\n",
              "    </tr>\n",
              "    <tr>\n",
              "      <th>3</th>\n",
              "      <td>2012-06-01 20:58:56</td>\n",
              "      <td>196FRH</td>\n",
              "      <td>45.554366</td>\n",
              "      <td>-122.671270</td>\n",
              "      <td>100</td>\n",
              "      <td>true</td>\n",
              "      <td>true</td>\n",
              "    </tr>\n",
              "    <tr>\n",
              "      <th>4</th>\n",
              "      <td>2012-06-01 20:58:56</td>\n",
              "      <td>197FRH</td>\n",
              "      <td>45.562482</td>\n",
              "      <td>-122.632860</td>\n",
              "      <td>48</td>\n",
              "      <td>true</td>\n",
              "      <td>true</td>\n",
              "    </tr>\n",
              "  </tbody>\n",
              "</table>\n",
              "</div>\n",
              "    <div class=\"colab-df-buttons\">\n",
              "\n",
              "  <div class=\"colab-df-container\">\n",
              "    <button class=\"colab-df-convert\" onclick=\"convertToInteractive('df-d6d8f690-23d0-4d51-8113-b7a91eef92b3')\"\n",
              "            title=\"Convert this dataframe to an interactive table.\"\n",
              "            style=\"display:none;\">\n",
              "\n",
              "  <svg xmlns=\"http://www.w3.org/2000/svg\" height=\"24px\" viewBox=\"0 -960 960 960\">\n",
              "    <path d=\"M120-120v-720h720v720H120Zm60-500h600v-160H180v160Zm220 220h160v-160H400v160Zm0 220h160v-160H400v160ZM180-400h160v-160H180v160Zm440 0h160v-160H620v160ZM180-180h160v-160H180v160Zm440 0h160v-160H620v160Z\"/>\n",
              "  </svg>\n",
              "    </button>\n",
              "\n",
              "  <style>\n",
              "    .colab-df-container {\n",
              "      display:flex;\n",
              "      gap: 12px;\n",
              "    }\n",
              "\n",
              "    .colab-df-convert {\n",
              "      background-color: #E8F0FE;\n",
              "      border: none;\n",
              "      border-radius: 50%;\n",
              "      cursor: pointer;\n",
              "      display: none;\n",
              "      fill: #1967D2;\n",
              "      height: 32px;\n",
              "      padding: 0 0 0 0;\n",
              "      width: 32px;\n",
              "    }\n",
              "\n",
              "    .colab-df-convert:hover {\n",
              "      background-color: #E2EBFA;\n",
              "      box-shadow: 0px 1px 2px rgba(60, 64, 67, 0.3), 0px 1px 3px 1px rgba(60, 64, 67, 0.15);\n",
              "      fill: #174EA6;\n",
              "    }\n",
              "\n",
              "    .colab-df-buttons div {\n",
              "      margin-bottom: 4px;\n",
              "    }\n",
              "\n",
              "    [theme=dark] .colab-df-convert {\n",
              "      background-color: #3B4455;\n",
              "      fill: #D2E3FC;\n",
              "    }\n",
              "\n",
              "    [theme=dark] .colab-df-convert:hover {\n",
              "      background-color: #434B5C;\n",
              "      box-shadow: 0px 1px 3px 1px rgba(0, 0, 0, 0.15);\n",
              "      filter: drop-shadow(0px 1px 2px rgba(0, 0, 0, 0.3));\n",
              "      fill: #FFFFFF;\n",
              "    }\n",
              "  </style>\n",
              "\n",
              "    <script>\n",
              "      const buttonEl =\n",
              "        document.querySelector('#df-d6d8f690-23d0-4d51-8113-b7a91eef92b3 button.colab-df-convert');\n",
              "      buttonEl.style.display =\n",
              "        google.colab.kernel.accessAllowed ? 'block' : 'none';\n",
              "\n",
              "      async function convertToInteractive(key) {\n",
              "        const element = document.querySelector('#df-d6d8f690-23d0-4d51-8113-b7a91eef92b3');\n",
              "        const dataTable =\n",
              "          await google.colab.kernel.invokeFunction('convertToInteractive',\n",
              "                                                    [key], {});\n",
              "        if (!dataTable) return;\n",
              "\n",
              "        const docLinkHtml = 'Like what you see? Visit the ' +\n",
              "          '<a target=\"_blank\" href=https://colab.research.google.com/notebooks/data_table.ipynb>data table notebook</a>'\n",
              "          + ' to learn more about interactive tables.';\n",
              "        element.innerHTML = '';\n",
              "        dataTable['output_type'] = 'display_data';\n",
              "        await google.colab.output.renderOutput(dataTable, element);\n",
              "        const docLink = document.createElement('div');\n",
              "        docLink.innerHTML = docLinkHtml;\n",
              "        element.appendChild(docLink);\n",
              "      }\n",
              "    </script>\n",
              "  </div>\n",
              "\n",
              "\n",
              "<div id=\"df-3a53b0ba-c86f-44bb-a021-58f37bfedf24\">\n",
              "  <button class=\"colab-df-quickchart\" onclick=\"quickchart('df-3a53b0ba-c86f-44bb-a021-58f37bfedf24')\"\n",
              "            title=\"Suggest charts.\"\n",
              "            style=\"display:none;\">\n",
              "\n",
              "<svg xmlns=\"http://www.w3.org/2000/svg\" height=\"24px\"viewBox=\"0 0 24 24\"\n",
              "     width=\"24px\">\n",
              "    <g>\n",
              "        <path d=\"M19 3H5c-1.1 0-2 .9-2 2v14c0 1.1.9 2 2 2h14c1.1 0 2-.9 2-2V5c0-1.1-.9-2-2-2zM9 17H7v-7h2v7zm4 0h-2V7h2v10zm4 0h-2v-4h2v4z\"/>\n",
              "    </g>\n",
              "</svg>\n",
              "  </button>\n",
              "\n",
              "<style>\n",
              "  .colab-df-quickchart {\n",
              "      --bg-color: #E8F0FE;\n",
              "      --fill-color: #1967D2;\n",
              "      --hover-bg-color: #E2EBFA;\n",
              "      --hover-fill-color: #174EA6;\n",
              "      --disabled-fill-color: #AAA;\n",
              "      --disabled-bg-color: #DDD;\n",
              "  }\n",
              "\n",
              "  [theme=dark] .colab-df-quickchart {\n",
              "      --bg-color: #3B4455;\n",
              "      --fill-color: #D2E3FC;\n",
              "      --hover-bg-color: #434B5C;\n",
              "      --hover-fill-color: #FFFFFF;\n",
              "      --disabled-bg-color: #3B4455;\n",
              "      --disabled-fill-color: #666;\n",
              "  }\n",
              "\n",
              "  .colab-df-quickchart {\n",
              "    background-color: var(--bg-color);\n",
              "    border: none;\n",
              "    border-radius: 50%;\n",
              "    cursor: pointer;\n",
              "    display: none;\n",
              "    fill: var(--fill-color);\n",
              "    height: 32px;\n",
              "    padding: 0;\n",
              "    width: 32px;\n",
              "  }\n",
              "\n",
              "  .colab-df-quickchart:hover {\n",
              "    background-color: var(--hover-bg-color);\n",
              "    box-shadow: 0 1px 2px rgba(60, 64, 67, 0.3), 0 1px 3px 1px rgba(60, 64, 67, 0.15);\n",
              "    fill: var(--button-hover-fill-color);\n",
              "  }\n",
              "\n",
              "  .colab-df-quickchart-complete:disabled,\n",
              "  .colab-df-quickchart-complete:disabled:hover {\n",
              "    background-color: var(--disabled-bg-color);\n",
              "    fill: var(--disabled-fill-color);\n",
              "    box-shadow: none;\n",
              "  }\n",
              "\n",
              "  .colab-df-spinner {\n",
              "    border: 2px solid var(--fill-color);\n",
              "    border-color: transparent;\n",
              "    border-bottom-color: var(--fill-color);\n",
              "    animation:\n",
              "      spin 1s steps(1) infinite;\n",
              "  }\n",
              "\n",
              "  @keyframes spin {\n",
              "    0% {\n",
              "      border-color: transparent;\n",
              "      border-bottom-color: var(--fill-color);\n",
              "      border-left-color: var(--fill-color);\n",
              "    }\n",
              "    20% {\n",
              "      border-color: transparent;\n",
              "      border-left-color: var(--fill-color);\n",
              "      border-top-color: var(--fill-color);\n",
              "    }\n",
              "    30% {\n",
              "      border-color: transparent;\n",
              "      border-left-color: var(--fill-color);\n",
              "      border-top-color: var(--fill-color);\n",
              "      border-right-color: var(--fill-color);\n",
              "    }\n",
              "    40% {\n",
              "      border-color: transparent;\n",
              "      border-right-color: var(--fill-color);\n",
              "      border-top-color: var(--fill-color);\n",
              "    }\n",
              "    60% {\n",
              "      border-color: transparent;\n",
              "      border-right-color: var(--fill-color);\n",
              "    }\n",
              "    80% {\n",
              "      border-color: transparent;\n",
              "      border-right-color: var(--fill-color);\n",
              "      border-bottom-color: var(--fill-color);\n",
              "    }\n",
              "    90% {\n",
              "      border-color: transparent;\n",
              "      border-bottom-color: var(--fill-color);\n",
              "    }\n",
              "  }\n",
              "</style>\n",
              "\n",
              "  <script>\n",
              "    async function quickchart(key) {\n",
              "      const quickchartButtonEl =\n",
              "        document.querySelector('#' + key + ' button');\n",
              "      quickchartButtonEl.disabled = true;  // To prevent multiple clicks.\n",
              "      quickchartButtonEl.classList.add('colab-df-spinner');\n",
              "      try {\n",
              "        const charts = await google.colab.kernel.invokeFunction(\n",
              "            'suggestCharts', [key], {});\n",
              "      } catch (error) {\n",
              "        console.error('Error during call to suggestCharts:', error);\n",
              "      }\n",
              "      quickchartButtonEl.classList.remove('colab-df-spinner');\n",
              "      quickchartButtonEl.classList.add('colab-df-quickchart-complete');\n",
              "    }\n",
              "    (() => {\n",
              "      let quickchartButtonEl =\n",
              "        document.querySelector('#df-3a53b0ba-c86f-44bb-a021-58f37bfedf24 button');\n",
              "      quickchartButtonEl.style.display =\n",
              "        google.colab.kernel.accessAllowed ? 'block' : 'none';\n",
              "    })();\n",
              "  </script>\n",
              "</div>\n",
              "    </div>\n",
              "  </div>\n"
            ]
          },
          "metadata": {},
          "execution_count": 6
        }
      ]
    },
    {
      "cell_type": "markdown",
      "source": [
        "Found there are leading spaces in the names of the columns and the values, then we get rid of the spaces"
      ],
      "metadata": {
        "id": "q5S1zQoq2w83"
      }
    },
    {
      "cell_type": "code",
      "source": [
        "Data.columns = [col.strip() for col in Data.columns]  #get rid of the leading space in the name of coulmns"
      ],
      "metadata": {
        "id": "WjSbBW3W3gjZ"
      },
      "execution_count": null,
      "outputs": []
    },
    {
      "cell_type": "code",
      "source": [
        "variable_names = Data.columns.tolist()\n",
        "variable_names #check whether the names of columns are okay"
      ],
      "metadata": {
        "colab": {
          "base_uri": "https://localhost:8080/"
        },
        "id": "_bajFGKd3l46",
        "outputId": "03636f0d-39db-4264-c930-17b365c3ea40"
      },
      "execution_count": null,
      "outputs": [
        {
          "output_type": "execute_result",
          "data": {
            "text/plain": [
              "['date', 'license', 'latitude', 'longitude', 'fuel', 'interior', 'exterior']"
            ]
          },
          "metadata": {},
          "execution_count": 8
        }
      ]
    },
    {
      "cell_type": "code",
      "source": [
        "Data = Data.applymap(lambda x: x.strip() if isinstance(x, str) else x) #get rid of the leading space in the values"
      ],
      "metadata": {
        "id": "5KUwrOhG6BLp"
      },
      "execution_count": null,
      "outputs": []
    },
    {
      "cell_type": "markdown",
      "source": [
        "Separate the date and time"
      ],
      "metadata": {
        "id": "IGTM0Ivl3OLM"
      }
    },
    {
      "cell_type": "code",
      "source": [
        "#sperate the Real date and time\n",
        "Data['time'] = pd.to_datetime(Data['date']).dt.time\n",
        "Data['date'] = pd.to_datetime(Data['date']).dt.date"
      ],
      "metadata": {
        "id": "Tt521Vdd6BUS"
      },
      "execution_count": null,
      "outputs": []
    },
    {
      "cell_type": "code",
      "source": [
        "#adjust the order of columns\n",
        "desired_order = ['license', 'date', 'time', 'latitude', 'longitude', 'fuel', 'interior', 'exterior',]\n",
        "Data = Data[desired_order]"
      ],
      "metadata": {
        "id": "br7KfOe94bA0"
      },
      "execution_count": null,
      "outputs": []
    },
    {
      "cell_type": "code",
      "source": [
        "Data.head(100)"
      ],
      "metadata": {
        "colab": {
          "base_uri": "https://localhost:8080/",
          "height": 423
        },
        "id": "EE9PnwRq6BXM",
        "outputId": "039d40a8-8664-402a-bc0c-618281c2c2c1"
      },
      "execution_count": null,
      "outputs": [
        {
          "output_type": "execute_result",
          "data": {
            "text/plain": [
              "   license        date      time   latitude   longitude  fuel interior  \\\n",
              "0   191FRH  2012-06-01  20:58:56  45.471205 -122.648474   100     true   \n",
              "1   158FRH  2012-06-01  20:58:56  45.558546 -122.709414    87     true   \n",
              "2   192FRH  2012-06-01  20:58:56  45.515036 -122.629782    54     true   \n",
              "3   196FRH  2012-06-01  20:58:56  45.554366 -122.671270   100     true   \n",
              "4   197FRH  2012-06-01  20:58:56  45.562482 -122.632860    48     true   \n",
              "..     ...         ...       ...        ...         ...   ...      ...   \n",
              "95  238FRH  2012-06-01  20:58:56  45.511086 -122.653625    78     true   \n",
              "96  237FRH  2012-06-01  20:58:56  45.516997 -122.593723    54    false   \n",
              "97  236FRH  2012-06-01  20:58:56  45.523839 -122.659648    66     true   \n",
              "98  216FRH  2012-06-01  20:58:56  45.518549 -122.627328    21     true   \n",
              "99  235FRH  2012-06-01  20:58:56  45.542560 -122.672048    21     true   \n",
              "\n",
              "   exterior  \n",
              "0      true  \n",
              "1      true  \n",
              "2      true  \n",
              "3      true  \n",
              "4      true  \n",
              "..      ...  \n",
              "95     true  \n",
              "96     true  \n",
              "97     true  \n",
              "98     true  \n",
              "99     true  \n",
              "\n",
              "[100 rows x 8 columns]"
            ],
            "text/html": [
              "\n",
              "  <div id=\"df-38f07548-8629-4395-8123-8224c9a38d7c\" class=\"colab-df-container\">\n",
              "    <div>\n",
              "<style scoped>\n",
              "    .dataframe tbody tr th:only-of-type {\n",
              "        vertical-align: middle;\n",
              "    }\n",
              "\n",
              "    .dataframe tbody tr th {\n",
              "        vertical-align: top;\n",
              "    }\n",
              "\n",
              "    .dataframe thead th {\n",
              "        text-align: right;\n",
              "    }\n",
              "</style>\n",
              "<table border=\"1\" class=\"dataframe\">\n",
              "  <thead>\n",
              "    <tr style=\"text-align: right;\">\n",
              "      <th></th>\n",
              "      <th>license</th>\n",
              "      <th>date</th>\n",
              "      <th>time</th>\n",
              "      <th>latitude</th>\n",
              "      <th>longitude</th>\n",
              "      <th>fuel</th>\n",
              "      <th>interior</th>\n",
              "      <th>exterior</th>\n",
              "    </tr>\n",
              "  </thead>\n",
              "  <tbody>\n",
              "    <tr>\n",
              "      <th>0</th>\n",
              "      <td>191FRH</td>\n",
              "      <td>2012-06-01</td>\n",
              "      <td>20:58:56</td>\n",
              "      <td>45.471205</td>\n",
              "      <td>-122.648474</td>\n",
              "      <td>100</td>\n",
              "      <td>true</td>\n",
              "      <td>true</td>\n",
              "    </tr>\n",
              "    <tr>\n",
              "      <th>1</th>\n",
              "      <td>158FRH</td>\n",
              "      <td>2012-06-01</td>\n",
              "      <td>20:58:56</td>\n",
              "      <td>45.558546</td>\n",
              "      <td>-122.709414</td>\n",
              "      <td>87</td>\n",
              "      <td>true</td>\n",
              "      <td>true</td>\n",
              "    </tr>\n",
              "    <tr>\n",
              "      <th>2</th>\n",
              "      <td>192FRH</td>\n",
              "      <td>2012-06-01</td>\n",
              "      <td>20:58:56</td>\n",
              "      <td>45.515036</td>\n",
              "      <td>-122.629782</td>\n",
              "      <td>54</td>\n",
              "      <td>true</td>\n",
              "      <td>true</td>\n",
              "    </tr>\n",
              "    <tr>\n",
              "      <th>3</th>\n",
              "      <td>196FRH</td>\n",
              "      <td>2012-06-01</td>\n",
              "      <td>20:58:56</td>\n",
              "      <td>45.554366</td>\n",
              "      <td>-122.671270</td>\n",
              "      <td>100</td>\n",
              "      <td>true</td>\n",
              "      <td>true</td>\n",
              "    </tr>\n",
              "    <tr>\n",
              "      <th>4</th>\n",
              "      <td>197FRH</td>\n",
              "      <td>2012-06-01</td>\n",
              "      <td>20:58:56</td>\n",
              "      <td>45.562482</td>\n",
              "      <td>-122.632860</td>\n",
              "      <td>48</td>\n",
              "      <td>true</td>\n",
              "      <td>true</td>\n",
              "    </tr>\n",
              "    <tr>\n",
              "      <th>...</th>\n",
              "      <td>...</td>\n",
              "      <td>...</td>\n",
              "      <td>...</td>\n",
              "      <td>...</td>\n",
              "      <td>...</td>\n",
              "      <td>...</td>\n",
              "      <td>...</td>\n",
              "      <td>...</td>\n",
              "    </tr>\n",
              "    <tr>\n",
              "      <th>95</th>\n",
              "      <td>238FRH</td>\n",
              "      <td>2012-06-01</td>\n",
              "      <td>20:58:56</td>\n",
              "      <td>45.511086</td>\n",
              "      <td>-122.653625</td>\n",
              "      <td>78</td>\n",
              "      <td>true</td>\n",
              "      <td>true</td>\n",
              "    </tr>\n",
              "    <tr>\n",
              "      <th>96</th>\n",
              "      <td>237FRH</td>\n",
              "      <td>2012-06-01</td>\n",
              "      <td>20:58:56</td>\n",
              "      <td>45.516997</td>\n",
              "      <td>-122.593723</td>\n",
              "      <td>54</td>\n",
              "      <td>false</td>\n",
              "      <td>true</td>\n",
              "    </tr>\n",
              "    <tr>\n",
              "      <th>97</th>\n",
              "      <td>236FRH</td>\n",
              "      <td>2012-06-01</td>\n",
              "      <td>20:58:56</td>\n",
              "      <td>45.523839</td>\n",
              "      <td>-122.659648</td>\n",
              "      <td>66</td>\n",
              "      <td>true</td>\n",
              "      <td>true</td>\n",
              "    </tr>\n",
              "    <tr>\n",
              "      <th>98</th>\n",
              "      <td>216FRH</td>\n",
              "      <td>2012-06-01</td>\n",
              "      <td>20:58:56</td>\n",
              "      <td>45.518549</td>\n",
              "      <td>-122.627328</td>\n",
              "      <td>21</td>\n",
              "      <td>true</td>\n",
              "      <td>true</td>\n",
              "    </tr>\n",
              "    <tr>\n",
              "      <th>99</th>\n",
              "      <td>235FRH</td>\n",
              "      <td>2012-06-01</td>\n",
              "      <td>20:58:56</td>\n",
              "      <td>45.542560</td>\n",
              "      <td>-122.672048</td>\n",
              "      <td>21</td>\n",
              "      <td>true</td>\n",
              "      <td>true</td>\n",
              "    </tr>\n",
              "  </tbody>\n",
              "</table>\n",
              "<p>100 rows × 8 columns</p>\n",
              "</div>\n",
              "    <div class=\"colab-df-buttons\">\n",
              "\n",
              "  <div class=\"colab-df-container\">\n",
              "    <button class=\"colab-df-convert\" onclick=\"convertToInteractive('df-38f07548-8629-4395-8123-8224c9a38d7c')\"\n",
              "            title=\"Convert this dataframe to an interactive table.\"\n",
              "            style=\"display:none;\">\n",
              "\n",
              "  <svg xmlns=\"http://www.w3.org/2000/svg\" height=\"24px\" viewBox=\"0 -960 960 960\">\n",
              "    <path d=\"M120-120v-720h720v720H120Zm60-500h600v-160H180v160Zm220 220h160v-160H400v160Zm0 220h160v-160H400v160ZM180-400h160v-160H180v160Zm440 0h160v-160H620v160ZM180-180h160v-160H180v160Zm440 0h160v-160H620v160Z\"/>\n",
              "  </svg>\n",
              "    </button>\n",
              "\n",
              "  <style>\n",
              "    .colab-df-container {\n",
              "      display:flex;\n",
              "      gap: 12px;\n",
              "    }\n",
              "\n",
              "    .colab-df-convert {\n",
              "      background-color: #E8F0FE;\n",
              "      border: none;\n",
              "      border-radius: 50%;\n",
              "      cursor: pointer;\n",
              "      display: none;\n",
              "      fill: #1967D2;\n",
              "      height: 32px;\n",
              "      padding: 0 0 0 0;\n",
              "      width: 32px;\n",
              "    }\n",
              "\n",
              "    .colab-df-convert:hover {\n",
              "      background-color: #E2EBFA;\n",
              "      box-shadow: 0px 1px 2px rgba(60, 64, 67, 0.3), 0px 1px 3px 1px rgba(60, 64, 67, 0.15);\n",
              "      fill: #174EA6;\n",
              "    }\n",
              "\n",
              "    .colab-df-buttons div {\n",
              "      margin-bottom: 4px;\n",
              "    }\n",
              "\n",
              "    [theme=dark] .colab-df-convert {\n",
              "      background-color: #3B4455;\n",
              "      fill: #D2E3FC;\n",
              "    }\n",
              "\n",
              "    [theme=dark] .colab-df-convert:hover {\n",
              "      background-color: #434B5C;\n",
              "      box-shadow: 0px 1px 3px 1px rgba(0, 0, 0, 0.15);\n",
              "      filter: drop-shadow(0px 1px 2px rgba(0, 0, 0, 0.3));\n",
              "      fill: #FFFFFF;\n",
              "    }\n",
              "  </style>\n",
              "\n",
              "    <script>\n",
              "      const buttonEl =\n",
              "        document.querySelector('#df-38f07548-8629-4395-8123-8224c9a38d7c button.colab-df-convert');\n",
              "      buttonEl.style.display =\n",
              "        google.colab.kernel.accessAllowed ? 'block' : 'none';\n",
              "\n",
              "      async function convertToInteractive(key) {\n",
              "        const element = document.querySelector('#df-38f07548-8629-4395-8123-8224c9a38d7c');\n",
              "        const dataTable =\n",
              "          await google.colab.kernel.invokeFunction('convertToInteractive',\n",
              "                                                    [key], {});\n",
              "        if (!dataTable) return;\n",
              "\n",
              "        const docLinkHtml = 'Like what you see? Visit the ' +\n",
              "          '<a target=\"_blank\" href=https://colab.research.google.com/notebooks/data_table.ipynb>data table notebook</a>'\n",
              "          + ' to learn more about interactive tables.';\n",
              "        element.innerHTML = '';\n",
              "        dataTable['output_type'] = 'display_data';\n",
              "        await google.colab.output.renderOutput(dataTable, element);\n",
              "        const docLink = document.createElement('div');\n",
              "        docLink.innerHTML = docLinkHtml;\n",
              "        element.appendChild(docLink);\n",
              "      }\n",
              "    </script>\n",
              "  </div>\n",
              "\n",
              "\n",
              "<div id=\"df-50c960e0-ab02-41f5-9800-c213badcfd20\">\n",
              "  <button class=\"colab-df-quickchart\" onclick=\"quickchart('df-50c960e0-ab02-41f5-9800-c213badcfd20')\"\n",
              "            title=\"Suggest charts.\"\n",
              "            style=\"display:none;\">\n",
              "\n",
              "<svg xmlns=\"http://www.w3.org/2000/svg\" height=\"24px\"viewBox=\"0 0 24 24\"\n",
              "     width=\"24px\">\n",
              "    <g>\n",
              "        <path d=\"M19 3H5c-1.1 0-2 .9-2 2v14c0 1.1.9 2 2 2h14c1.1 0 2-.9 2-2V5c0-1.1-.9-2-2-2zM9 17H7v-7h2v7zm4 0h-2V7h2v10zm4 0h-2v-4h2v4z\"/>\n",
              "    </g>\n",
              "</svg>\n",
              "  </button>\n",
              "\n",
              "<style>\n",
              "  .colab-df-quickchart {\n",
              "      --bg-color: #E8F0FE;\n",
              "      --fill-color: #1967D2;\n",
              "      --hover-bg-color: #E2EBFA;\n",
              "      --hover-fill-color: #174EA6;\n",
              "      --disabled-fill-color: #AAA;\n",
              "      --disabled-bg-color: #DDD;\n",
              "  }\n",
              "\n",
              "  [theme=dark] .colab-df-quickchart {\n",
              "      --bg-color: #3B4455;\n",
              "      --fill-color: #D2E3FC;\n",
              "      --hover-bg-color: #434B5C;\n",
              "      --hover-fill-color: #FFFFFF;\n",
              "      --disabled-bg-color: #3B4455;\n",
              "      --disabled-fill-color: #666;\n",
              "  }\n",
              "\n",
              "  .colab-df-quickchart {\n",
              "    background-color: var(--bg-color);\n",
              "    border: none;\n",
              "    border-radius: 50%;\n",
              "    cursor: pointer;\n",
              "    display: none;\n",
              "    fill: var(--fill-color);\n",
              "    height: 32px;\n",
              "    padding: 0;\n",
              "    width: 32px;\n",
              "  }\n",
              "\n",
              "  .colab-df-quickchart:hover {\n",
              "    background-color: var(--hover-bg-color);\n",
              "    box-shadow: 0 1px 2px rgba(60, 64, 67, 0.3), 0 1px 3px 1px rgba(60, 64, 67, 0.15);\n",
              "    fill: var(--button-hover-fill-color);\n",
              "  }\n",
              "\n",
              "  .colab-df-quickchart-complete:disabled,\n",
              "  .colab-df-quickchart-complete:disabled:hover {\n",
              "    background-color: var(--disabled-bg-color);\n",
              "    fill: var(--disabled-fill-color);\n",
              "    box-shadow: none;\n",
              "  }\n",
              "\n",
              "  .colab-df-spinner {\n",
              "    border: 2px solid var(--fill-color);\n",
              "    border-color: transparent;\n",
              "    border-bottom-color: var(--fill-color);\n",
              "    animation:\n",
              "      spin 1s steps(1) infinite;\n",
              "  }\n",
              "\n",
              "  @keyframes spin {\n",
              "    0% {\n",
              "      border-color: transparent;\n",
              "      border-bottom-color: var(--fill-color);\n",
              "      border-left-color: var(--fill-color);\n",
              "    }\n",
              "    20% {\n",
              "      border-color: transparent;\n",
              "      border-left-color: var(--fill-color);\n",
              "      border-top-color: var(--fill-color);\n",
              "    }\n",
              "    30% {\n",
              "      border-color: transparent;\n",
              "      border-left-color: var(--fill-color);\n",
              "      border-top-color: var(--fill-color);\n",
              "      border-right-color: var(--fill-color);\n",
              "    }\n",
              "    40% {\n",
              "      border-color: transparent;\n",
              "      border-right-color: var(--fill-color);\n",
              "      border-top-color: var(--fill-color);\n",
              "    }\n",
              "    60% {\n",
              "      border-color: transparent;\n",
              "      border-right-color: var(--fill-color);\n",
              "    }\n",
              "    80% {\n",
              "      border-color: transparent;\n",
              "      border-right-color: var(--fill-color);\n",
              "      border-bottom-color: var(--fill-color);\n",
              "    }\n",
              "    90% {\n",
              "      border-color: transparent;\n",
              "      border-bottom-color: var(--fill-color);\n",
              "    }\n",
              "  }\n",
              "</style>\n",
              "\n",
              "  <script>\n",
              "    async function quickchart(key) {\n",
              "      const quickchartButtonEl =\n",
              "        document.querySelector('#' + key + ' button');\n",
              "      quickchartButtonEl.disabled = true;  // To prevent multiple clicks.\n",
              "      quickchartButtonEl.classList.add('colab-df-spinner');\n",
              "      try {\n",
              "        const charts = await google.colab.kernel.invokeFunction(\n",
              "            'suggestCharts', [key], {});\n",
              "      } catch (error) {\n",
              "        console.error('Error during call to suggestCharts:', error);\n",
              "      }\n",
              "      quickchartButtonEl.classList.remove('colab-df-spinner');\n",
              "      quickchartButtonEl.classList.add('colab-df-quickchart-complete');\n",
              "    }\n",
              "    (() => {\n",
              "      let quickchartButtonEl =\n",
              "        document.querySelector('#df-50c960e0-ab02-41f5-9800-c213badcfd20 button');\n",
              "      quickchartButtonEl.style.display =\n",
              "        google.colab.kernel.accessAllowed ? 'block' : 'none';\n",
              "    })();\n",
              "  </script>\n",
              "</div>\n",
              "    </div>\n",
              "  </div>\n"
            ]
          },
          "metadata": {},
          "execution_count": 12
        }
      ]
    },
    {
      "cell_type": "markdown",
      "source": [
        "Change the results in interior and exterior to catergorical number"
      ],
      "metadata": {
        "id": "3JQablSd5F3y"
      }
    },
    {
      "cell_type": "code",
      "source": [
        "# Convert true and false to 1 and 0, notice that is string not boolean\n",
        "for col in ['interior','exterior']:\n",
        "    Data[col] = Data[col].replace({'true': 1, 'false': 0})"
      ],
      "metadata": {
        "id": "CCm6xIBnAGRK"
      },
      "execution_count": null,
      "outputs": []
    },
    {
      "cell_type": "code",
      "source": [
        "Data.head(100)"
      ],
      "metadata": {
        "colab": {
          "base_uri": "https://localhost:8080/",
          "height": 423
        },
        "id": "vpYIeqQvAGdo",
        "outputId": "0beeb8e8-90f6-4f7b-f258-5f683c80ee99"
      },
      "execution_count": null,
      "outputs": [
        {
          "output_type": "execute_result",
          "data": {
            "text/plain": [
              "   license        date      time   latitude   longitude  fuel  interior  \\\n",
              "0   191FRH  2012-06-01  20:58:56  45.471205 -122.648474   100         1   \n",
              "1   158FRH  2012-06-01  20:58:56  45.558546 -122.709414    87         1   \n",
              "2   192FRH  2012-06-01  20:58:56  45.515036 -122.629782    54         1   \n",
              "3   196FRH  2012-06-01  20:58:56  45.554366 -122.671270   100         1   \n",
              "4   197FRH  2012-06-01  20:58:56  45.562482 -122.632860    48         1   \n",
              "..     ...         ...       ...        ...         ...   ...       ...   \n",
              "95  238FRH  2012-06-01  20:58:56  45.511086 -122.653625    78         1   \n",
              "96  237FRH  2012-06-01  20:58:56  45.516997 -122.593723    54         0   \n",
              "97  236FRH  2012-06-01  20:58:56  45.523839 -122.659648    66         1   \n",
              "98  216FRH  2012-06-01  20:58:56  45.518549 -122.627328    21         1   \n",
              "99  235FRH  2012-06-01  20:58:56  45.542560 -122.672048    21         1   \n",
              "\n",
              "    exterior  \n",
              "0          1  \n",
              "1          1  \n",
              "2          1  \n",
              "3          1  \n",
              "4          1  \n",
              "..       ...  \n",
              "95         1  \n",
              "96         1  \n",
              "97         1  \n",
              "98         1  \n",
              "99         1  \n",
              "\n",
              "[100 rows x 8 columns]"
            ],
            "text/html": [
              "\n",
              "  <div id=\"df-878cb580-25c8-4646-acf1-0f5beae071c8\" class=\"colab-df-container\">\n",
              "    <div>\n",
              "<style scoped>\n",
              "    .dataframe tbody tr th:only-of-type {\n",
              "        vertical-align: middle;\n",
              "    }\n",
              "\n",
              "    .dataframe tbody tr th {\n",
              "        vertical-align: top;\n",
              "    }\n",
              "\n",
              "    .dataframe thead th {\n",
              "        text-align: right;\n",
              "    }\n",
              "</style>\n",
              "<table border=\"1\" class=\"dataframe\">\n",
              "  <thead>\n",
              "    <tr style=\"text-align: right;\">\n",
              "      <th></th>\n",
              "      <th>license</th>\n",
              "      <th>date</th>\n",
              "      <th>time</th>\n",
              "      <th>latitude</th>\n",
              "      <th>longitude</th>\n",
              "      <th>fuel</th>\n",
              "      <th>interior</th>\n",
              "      <th>exterior</th>\n",
              "    </tr>\n",
              "  </thead>\n",
              "  <tbody>\n",
              "    <tr>\n",
              "      <th>0</th>\n",
              "      <td>191FRH</td>\n",
              "      <td>2012-06-01</td>\n",
              "      <td>20:58:56</td>\n",
              "      <td>45.471205</td>\n",
              "      <td>-122.648474</td>\n",
              "      <td>100</td>\n",
              "      <td>1</td>\n",
              "      <td>1</td>\n",
              "    </tr>\n",
              "    <tr>\n",
              "      <th>1</th>\n",
              "      <td>158FRH</td>\n",
              "      <td>2012-06-01</td>\n",
              "      <td>20:58:56</td>\n",
              "      <td>45.558546</td>\n",
              "      <td>-122.709414</td>\n",
              "      <td>87</td>\n",
              "      <td>1</td>\n",
              "      <td>1</td>\n",
              "    </tr>\n",
              "    <tr>\n",
              "      <th>2</th>\n",
              "      <td>192FRH</td>\n",
              "      <td>2012-06-01</td>\n",
              "      <td>20:58:56</td>\n",
              "      <td>45.515036</td>\n",
              "      <td>-122.629782</td>\n",
              "      <td>54</td>\n",
              "      <td>1</td>\n",
              "      <td>1</td>\n",
              "    </tr>\n",
              "    <tr>\n",
              "      <th>3</th>\n",
              "      <td>196FRH</td>\n",
              "      <td>2012-06-01</td>\n",
              "      <td>20:58:56</td>\n",
              "      <td>45.554366</td>\n",
              "      <td>-122.671270</td>\n",
              "      <td>100</td>\n",
              "      <td>1</td>\n",
              "      <td>1</td>\n",
              "    </tr>\n",
              "    <tr>\n",
              "      <th>4</th>\n",
              "      <td>197FRH</td>\n",
              "      <td>2012-06-01</td>\n",
              "      <td>20:58:56</td>\n",
              "      <td>45.562482</td>\n",
              "      <td>-122.632860</td>\n",
              "      <td>48</td>\n",
              "      <td>1</td>\n",
              "      <td>1</td>\n",
              "    </tr>\n",
              "    <tr>\n",
              "      <th>...</th>\n",
              "      <td>...</td>\n",
              "      <td>...</td>\n",
              "      <td>...</td>\n",
              "      <td>...</td>\n",
              "      <td>...</td>\n",
              "      <td>...</td>\n",
              "      <td>...</td>\n",
              "      <td>...</td>\n",
              "    </tr>\n",
              "    <tr>\n",
              "      <th>95</th>\n",
              "      <td>238FRH</td>\n",
              "      <td>2012-06-01</td>\n",
              "      <td>20:58:56</td>\n",
              "      <td>45.511086</td>\n",
              "      <td>-122.653625</td>\n",
              "      <td>78</td>\n",
              "      <td>1</td>\n",
              "      <td>1</td>\n",
              "    </tr>\n",
              "    <tr>\n",
              "      <th>96</th>\n",
              "      <td>237FRH</td>\n",
              "      <td>2012-06-01</td>\n",
              "      <td>20:58:56</td>\n",
              "      <td>45.516997</td>\n",
              "      <td>-122.593723</td>\n",
              "      <td>54</td>\n",
              "      <td>0</td>\n",
              "      <td>1</td>\n",
              "    </tr>\n",
              "    <tr>\n",
              "      <th>97</th>\n",
              "      <td>236FRH</td>\n",
              "      <td>2012-06-01</td>\n",
              "      <td>20:58:56</td>\n",
              "      <td>45.523839</td>\n",
              "      <td>-122.659648</td>\n",
              "      <td>66</td>\n",
              "      <td>1</td>\n",
              "      <td>1</td>\n",
              "    </tr>\n",
              "    <tr>\n",
              "      <th>98</th>\n",
              "      <td>216FRH</td>\n",
              "      <td>2012-06-01</td>\n",
              "      <td>20:58:56</td>\n",
              "      <td>45.518549</td>\n",
              "      <td>-122.627328</td>\n",
              "      <td>21</td>\n",
              "      <td>1</td>\n",
              "      <td>1</td>\n",
              "    </tr>\n",
              "    <tr>\n",
              "      <th>99</th>\n",
              "      <td>235FRH</td>\n",
              "      <td>2012-06-01</td>\n",
              "      <td>20:58:56</td>\n",
              "      <td>45.542560</td>\n",
              "      <td>-122.672048</td>\n",
              "      <td>21</td>\n",
              "      <td>1</td>\n",
              "      <td>1</td>\n",
              "    </tr>\n",
              "  </tbody>\n",
              "</table>\n",
              "<p>100 rows × 8 columns</p>\n",
              "</div>\n",
              "    <div class=\"colab-df-buttons\">\n",
              "\n",
              "  <div class=\"colab-df-container\">\n",
              "    <button class=\"colab-df-convert\" onclick=\"convertToInteractive('df-878cb580-25c8-4646-acf1-0f5beae071c8')\"\n",
              "            title=\"Convert this dataframe to an interactive table.\"\n",
              "            style=\"display:none;\">\n",
              "\n",
              "  <svg xmlns=\"http://www.w3.org/2000/svg\" height=\"24px\" viewBox=\"0 -960 960 960\">\n",
              "    <path d=\"M120-120v-720h720v720H120Zm60-500h600v-160H180v160Zm220 220h160v-160H400v160Zm0 220h160v-160H400v160ZM180-400h160v-160H180v160Zm440 0h160v-160H620v160ZM180-180h160v-160H180v160Zm440 0h160v-160H620v160Z\"/>\n",
              "  </svg>\n",
              "    </button>\n",
              "\n",
              "  <style>\n",
              "    .colab-df-container {\n",
              "      display:flex;\n",
              "      gap: 12px;\n",
              "    }\n",
              "\n",
              "    .colab-df-convert {\n",
              "      background-color: #E8F0FE;\n",
              "      border: none;\n",
              "      border-radius: 50%;\n",
              "      cursor: pointer;\n",
              "      display: none;\n",
              "      fill: #1967D2;\n",
              "      height: 32px;\n",
              "      padding: 0 0 0 0;\n",
              "      width: 32px;\n",
              "    }\n",
              "\n",
              "    .colab-df-convert:hover {\n",
              "      background-color: #E2EBFA;\n",
              "      box-shadow: 0px 1px 2px rgba(60, 64, 67, 0.3), 0px 1px 3px 1px rgba(60, 64, 67, 0.15);\n",
              "      fill: #174EA6;\n",
              "    }\n",
              "\n",
              "    .colab-df-buttons div {\n",
              "      margin-bottom: 4px;\n",
              "    }\n",
              "\n",
              "    [theme=dark] .colab-df-convert {\n",
              "      background-color: #3B4455;\n",
              "      fill: #D2E3FC;\n",
              "    }\n",
              "\n",
              "    [theme=dark] .colab-df-convert:hover {\n",
              "      background-color: #434B5C;\n",
              "      box-shadow: 0px 1px 3px 1px rgba(0, 0, 0, 0.15);\n",
              "      filter: drop-shadow(0px 1px 2px rgba(0, 0, 0, 0.3));\n",
              "      fill: #FFFFFF;\n",
              "    }\n",
              "  </style>\n",
              "\n",
              "    <script>\n",
              "      const buttonEl =\n",
              "        document.querySelector('#df-878cb580-25c8-4646-acf1-0f5beae071c8 button.colab-df-convert');\n",
              "      buttonEl.style.display =\n",
              "        google.colab.kernel.accessAllowed ? 'block' : 'none';\n",
              "\n",
              "      async function convertToInteractive(key) {\n",
              "        const element = document.querySelector('#df-878cb580-25c8-4646-acf1-0f5beae071c8');\n",
              "        const dataTable =\n",
              "          await google.colab.kernel.invokeFunction('convertToInteractive',\n",
              "                                                    [key], {});\n",
              "        if (!dataTable) return;\n",
              "\n",
              "        const docLinkHtml = 'Like what you see? Visit the ' +\n",
              "          '<a target=\"_blank\" href=https://colab.research.google.com/notebooks/data_table.ipynb>data table notebook</a>'\n",
              "          + ' to learn more about interactive tables.';\n",
              "        element.innerHTML = '';\n",
              "        dataTable['output_type'] = 'display_data';\n",
              "        await google.colab.output.renderOutput(dataTable, element);\n",
              "        const docLink = document.createElement('div');\n",
              "        docLink.innerHTML = docLinkHtml;\n",
              "        element.appendChild(docLink);\n",
              "      }\n",
              "    </script>\n",
              "  </div>\n",
              "\n",
              "\n",
              "<div id=\"df-2ff33563-feef-4eed-bb22-7a32dea0af36\">\n",
              "  <button class=\"colab-df-quickchart\" onclick=\"quickchart('df-2ff33563-feef-4eed-bb22-7a32dea0af36')\"\n",
              "            title=\"Suggest charts.\"\n",
              "            style=\"display:none;\">\n",
              "\n",
              "<svg xmlns=\"http://www.w3.org/2000/svg\" height=\"24px\"viewBox=\"0 0 24 24\"\n",
              "     width=\"24px\">\n",
              "    <g>\n",
              "        <path d=\"M19 3H5c-1.1 0-2 .9-2 2v14c0 1.1.9 2 2 2h14c1.1 0 2-.9 2-2V5c0-1.1-.9-2-2-2zM9 17H7v-7h2v7zm4 0h-2V7h2v10zm4 0h-2v-4h2v4z\"/>\n",
              "    </g>\n",
              "</svg>\n",
              "  </button>\n",
              "\n",
              "<style>\n",
              "  .colab-df-quickchart {\n",
              "      --bg-color: #E8F0FE;\n",
              "      --fill-color: #1967D2;\n",
              "      --hover-bg-color: #E2EBFA;\n",
              "      --hover-fill-color: #174EA6;\n",
              "      --disabled-fill-color: #AAA;\n",
              "      --disabled-bg-color: #DDD;\n",
              "  }\n",
              "\n",
              "  [theme=dark] .colab-df-quickchart {\n",
              "      --bg-color: #3B4455;\n",
              "      --fill-color: #D2E3FC;\n",
              "      --hover-bg-color: #434B5C;\n",
              "      --hover-fill-color: #FFFFFF;\n",
              "      --disabled-bg-color: #3B4455;\n",
              "      --disabled-fill-color: #666;\n",
              "  }\n",
              "\n",
              "  .colab-df-quickchart {\n",
              "    background-color: var(--bg-color);\n",
              "    border: none;\n",
              "    border-radius: 50%;\n",
              "    cursor: pointer;\n",
              "    display: none;\n",
              "    fill: var(--fill-color);\n",
              "    height: 32px;\n",
              "    padding: 0;\n",
              "    width: 32px;\n",
              "  }\n",
              "\n",
              "  .colab-df-quickchart:hover {\n",
              "    background-color: var(--hover-bg-color);\n",
              "    box-shadow: 0 1px 2px rgba(60, 64, 67, 0.3), 0 1px 3px 1px rgba(60, 64, 67, 0.15);\n",
              "    fill: var(--button-hover-fill-color);\n",
              "  }\n",
              "\n",
              "  .colab-df-quickchart-complete:disabled,\n",
              "  .colab-df-quickchart-complete:disabled:hover {\n",
              "    background-color: var(--disabled-bg-color);\n",
              "    fill: var(--disabled-fill-color);\n",
              "    box-shadow: none;\n",
              "  }\n",
              "\n",
              "  .colab-df-spinner {\n",
              "    border: 2px solid var(--fill-color);\n",
              "    border-color: transparent;\n",
              "    border-bottom-color: var(--fill-color);\n",
              "    animation:\n",
              "      spin 1s steps(1) infinite;\n",
              "  }\n",
              "\n",
              "  @keyframes spin {\n",
              "    0% {\n",
              "      border-color: transparent;\n",
              "      border-bottom-color: var(--fill-color);\n",
              "      border-left-color: var(--fill-color);\n",
              "    }\n",
              "    20% {\n",
              "      border-color: transparent;\n",
              "      border-left-color: var(--fill-color);\n",
              "      border-top-color: var(--fill-color);\n",
              "    }\n",
              "    30% {\n",
              "      border-color: transparent;\n",
              "      border-left-color: var(--fill-color);\n",
              "      border-top-color: var(--fill-color);\n",
              "      border-right-color: var(--fill-color);\n",
              "    }\n",
              "    40% {\n",
              "      border-color: transparent;\n",
              "      border-right-color: var(--fill-color);\n",
              "      border-top-color: var(--fill-color);\n",
              "    }\n",
              "    60% {\n",
              "      border-color: transparent;\n",
              "      border-right-color: var(--fill-color);\n",
              "    }\n",
              "    80% {\n",
              "      border-color: transparent;\n",
              "      border-right-color: var(--fill-color);\n",
              "      border-bottom-color: var(--fill-color);\n",
              "    }\n",
              "    90% {\n",
              "      border-color: transparent;\n",
              "      border-bottom-color: var(--fill-color);\n",
              "    }\n",
              "  }\n",
              "</style>\n",
              "\n",
              "  <script>\n",
              "    async function quickchart(key) {\n",
              "      const quickchartButtonEl =\n",
              "        document.querySelector('#' + key + ' button');\n",
              "      quickchartButtonEl.disabled = true;  // To prevent multiple clicks.\n",
              "      quickchartButtonEl.classList.add('colab-df-spinner');\n",
              "      try {\n",
              "        const charts = await google.colab.kernel.invokeFunction(\n",
              "            'suggestCharts', [key], {});\n",
              "      } catch (error) {\n",
              "        console.error('Error during call to suggestCharts:', error);\n",
              "      }\n",
              "      quickchartButtonEl.classList.remove('colab-df-spinner');\n",
              "      quickchartButtonEl.classList.add('colab-df-quickchart-complete');\n",
              "    }\n",
              "    (() => {\n",
              "      let quickchartButtonEl =\n",
              "        document.querySelector('#df-2ff33563-feef-4eed-bb22-7a32dea0af36 button');\n",
              "      quickchartButtonEl.style.display =\n",
              "        google.colab.kernel.accessAllowed ? 'block' : 'none';\n",
              "    })();\n",
              "  </script>\n",
              "</div>\n",
              "    </div>\n",
              "  </div>\n"
            ]
          },
          "metadata": {},
          "execution_count": 14
        }
      ]
    },
    {
      "cell_type": "markdown",
      "source": [
        "# Locate the Renting Timepoint"
      ],
      "metadata": {
        "id": "g_bn9u-PlbzJ"
      }
    },
    {
      "cell_type": "markdown",
      "source": [
        "For each vehicle, abs delta latitude >= 0.01 AND abs delta longitude >= 0.01 AND fuel decrease\n",
        "\n",
        "Notes: The location/latitude/longitude would change which getting charged, so we should care whether the battery level decrease"
      ],
      "metadata": {
        "id": "EtBocIIjlt75"
      }
    },
    {
      "cell_type": "code",
      "source": [
        "#to check the number of vehicles we are going to track\n",
        "num_vehicle= Data['license'].nunique()\n",
        "print(num_vehicle)  #The number of vehicles is not exactly as what they said 316 ALWAYS"
      ],
      "metadata": {
        "id": "SuSNLBJ8jom3",
        "colab": {
          "base_uri": "https://localhost:8080/"
        },
        "outputId": "e70f2a6c-105a-498f-a1c1-d018b93fbb5b"
      },
      "execution_count": null,
      "outputs": [
        {
          "output_type": "stream",
          "name": "stdout",
          "text": [
            "246\n"
          ]
        }
      ]
    },
    {
      "cell_type": "code",
      "source": [
        "unique_vehicle =Data['license'].unique()"
      ],
      "metadata": {
        "id": "gFINJFdz4rJo"
      },
      "execution_count": null,
      "outputs": []
    },
    {
      "cell_type": "code",
      "source": [
        "#convert the numpy.ndarray to a list\n",
        "unique_vehicle_list = unique_vehicle.tolist()\n",
        "print(type(unique_vehicle_list))"
      ],
      "metadata": {
        "id": "_7KZFWAf4rNQ",
        "colab": {
          "base_uri": "https://localhost:8080/"
        },
        "outputId": "670b4a64-e497-4d44-bd84-216671e0333f"
      },
      "execution_count": null,
      "outputs": [
        {
          "output_type": "stream",
          "name": "stdout",
          "text": [
            "<class 'list'>\n"
          ]
        }
      ]
    },
    {
      "cell_type": "markdown",
      "source": [
        "Sort the records"
      ],
      "metadata": {
        "id": "7XO_fI345mRK"
      }
    },
    {
      "cell_type": "code",
      "source": [
        "Data.sort_values(by=['license', 'date', 'time'], inplace=True) #sort the records as license, date and time"
      ],
      "metadata": {
        "id": "fU3hRqGS6bxm"
      },
      "execution_count": null,
      "outputs": []
    },
    {
      "cell_type": "code",
      "source": [
        "Data.reset_index(drop=True, inplace=True)#set the new index"
      ],
      "metadata": {
        "id": "MWlRBUPioevF"
      },
      "execution_count": null,
      "outputs": []
    },
    {
      "cell_type": "code",
      "source": [
        "#Data.to_csv('cleaned_data.csv', index=False)\n",
        "#files.download('cleaned_data.csv')"
      ],
      "metadata": {
        "id": "n3zLCmujHSUz"
      },
      "execution_count": null,
      "outputs": []
    },
    {
      "cell_type": "markdown",
      "source": [
        "Collect the filtered records"
      ],
      "metadata": {
        "id": "ncq1xpqeSgmE"
      }
    },
    {
      "cell_type": "code",
      "source": [
        "def filter_general(group):\n",
        "    group['diff_longitude'] = group['longitude'].diff().fillna(0)\n",
        "    group['diff_latitude'] = group['latitude'].diff().fillna(0)\n",
        "\n",
        "    group['diff_fuel'] = group['fuel'].diff().fillna(0)\n",
        "\n",
        "    #combine the constraints\n",
        "    filter = (group['diff_longitude'] != 0) & (group['diff_latitude'] != 0) & (group['diff_fuel'] <= 0)\n",
        "\n",
        "    #Set the filter rows as 2, one previous row of each filter row as 1\n",
        "    group['note'] = 0\n",
        "\n",
        "    group.loc[filter, 'note'] = 2 #set filter rows as 2\n",
        "\n",
        "    #get the filter rows' index\n",
        "    filter_index = group.index[filter]\n",
        "\n",
        "    #get the index of the shift back one row\n",
        "    shiftback_index = filter_index - 1\n",
        "    previous_sets = shiftback_index[shiftback_index >= group.index[0]]\n",
        "    group.loc[previous_sets, 'note'] = 1 #set shift back one row as 1\n",
        "\n",
        "    # only collect the note 1 or 2 row (either filtered rows or their previous rows)\n",
        "    return group[group['note'] > 0]\n",
        "\n",
        "filtered_df = Data.groupby('license', group_keys=False).apply(filter_general)\n",
        "filtered_df = filtered_df.drop(['diff_longitude', 'diff_latitude', 'diff_fuel'], axis=1)"
      ],
      "metadata": {
        "id": "nq2jJr0_KyPd"
      },
      "execution_count": null,
      "outputs": []
    },
    {
      "cell_type": "code",
      "source": [
        "print(filtered_df.head(30))"
      ],
      "metadata": {
        "colab": {
          "base_uri": "https://localhost:8080/"
        },
        "id": "EJi7ggP9Olie",
        "outputId": "8d32697c-97c6-4347-a8f4-4e9d668d6b7b"
      },
      "execution_count": null,
      "outputs": [
        {
          "output_type": "stream",
          "name": "stdout",
          "text": [
            "    license        date      time   latitude   longitude  fuel  interior  \\\n",
            "0    151FRH  2012-06-01  20:58:56  45.510180 -122.675216    33         1   \n",
            "1    151FRH  2012-06-01  22:58:03  45.514420 -122.654003    33         1   \n",
            "10   151FRH  2012-06-02  01:15:02  45.514420 -122.654003    33         1   \n",
            "11   151FRH  2012-06-02  01:45:03  45.533480 -122.604074    30         0   \n",
            "134  151FRH  2012-06-03  10:45:02  45.523880 -122.650722   100         1   \n",
            "135  151FRH  2012-06-03  11:15:03  45.523861 -122.698368   100         1   \n",
            "156  151FRH  2012-06-03  16:30:03  45.523861 -122.698368   100         1   \n",
            "157  151FRH  2012-06-03  16:45:03  45.524908 -122.689948   100         1   \n",
            "164  151FRH  2012-06-03  18:30:03  45.524908 -122.689948   100         1   \n",
            "165  151FRH  2012-06-03  19:15:03  45.559033 -122.644220   100         1   \n",
            "171  151FRH  2012-06-03  20:45:03  45.559033 -122.644220   100         1   \n",
            "172  151FRH  2012-06-03  21:45:03  45.522510 -122.689915   100         1   \n",
            "215  151FRH  2012-06-04  08:30:04  45.522510 -122.689915   100         1   \n",
            "216  151FRH  2012-06-04  09:00:04  45.518857 -122.683832   100         1   \n",
            "228  151FRH  2012-06-04  12:00:05  45.518857 -122.683832   100         1   \n",
            "229  151FRH  2012-06-04  12:30:03  45.531230 -122.652590   100         1   \n",
            "241  151FRH  2012-06-04  15:30:04  45.531230 -122.652590   100         1   \n",
            "242  151FRH  2012-06-04  16:00:04  45.523530 -122.688528   100         1   \n",
            "246  151FRH  2012-06-04  17:00:03  45.523530 -122.688528   100         1   \n",
            "247  151FRH  2012-06-04  17:30:03  45.526375 -122.685833   100         1   \n",
            "249  151FRH  2012-06-04  18:00:03  45.526375 -122.685833   100         1   \n",
            "250  151FRH  2012-06-04  18:30:04  45.536524 -122.648383   100         1   \n",
            "352  151FRH  2012-06-05  20:00:04  45.536524 -122.648383   100         1   \n",
            "353  151FRH  2012-06-05  20:30:04  45.520845 -122.682392   100         1   \n",
            "360  151FRH  2012-06-05  22:15:03  45.520845 -122.682392   100         1   \n",
            "361  151FRH  2012-06-05  23:00:05  45.508702 -122.681880   100         1   \n",
            "367  151FRH  2012-06-06  00:30:03  45.508702 -122.681880   100         1   \n",
            "368  151FRH  2012-06-06  01:00:04  45.495214 -122.670797   100         1   \n",
            "393  151FRH  2012-06-06  07:15:07  45.495214 -122.670797   100         1   \n",
            "394  151FRH  2012-06-06  08:00:04  45.523247 -122.683151   100         1   \n",
            "\n",
            "     exterior  note  \n",
            "0           1     1  \n",
            "1           1     2  \n",
            "10          1     1  \n",
            "11          0     2  \n",
            "134         1     1  \n",
            "135         1     2  \n",
            "156         1     1  \n",
            "157         1     2  \n",
            "164         1     1  \n",
            "165         1     2  \n",
            "171         1     1  \n",
            "172         1     2  \n",
            "215         1     1  \n",
            "216         1     2  \n",
            "228         1     1  \n",
            "229         1     2  \n",
            "241         1     1  \n",
            "242         1     2  \n",
            "246         1     1  \n",
            "247         1     2  \n",
            "249         1     1  \n",
            "250         1     2  \n",
            "352         1     1  \n",
            "353         1     2  \n",
            "360         1     1  \n",
            "361         1     2  \n",
            "367         1     1  \n",
            "368         1     2  \n",
            "393         1     1  \n",
            "394         1     1  \n"
          ]
        }
      ]
    },
    {
      "cell_type": "markdown",
      "source": [
        "Deal with the \"over-time\" trips. <br>In the three or more consecutive rows, the location keep changed, that is, the vehicle did not stop within two recording timepoints. We assume that the vehicle kept moved, that is, it was only picked up once, ignoring the status of middle records"
      ],
      "metadata": {
        "id": "WvNf2p6ldoFW"
      }
    },
    {
      "cell_type": "code",
      "source": [
        "#set one or more note==1 records and the only note==2 record as a group\n",
        "#add the new column in the current dataset filtered_df\n",
        "filtered_df['group_id'] = (filtered_df['note'] == 2).shift(1, fill_value=0).cumsum()"
      ],
      "metadata": {
        "id": "w_mHsiAFlYUN"
      },
      "execution_count": null,
      "outputs": []
    },
    {
      "cell_type": "code",
      "source": [
        "print(filtered_df)"
      ],
      "metadata": {
        "id": "qkD_FEg9lYXI",
        "colab": {
          "base_uri": "https://localhost:8080/"
        },
        "outputId": "9db07554-c822-4c5e-ac59-f5b2ae7f7a0c"
      },
      "execution_count": null,
      "outputs": [
        {
          "output_type": "stream",
          "name": "stdout",
          "text": [
            "       license        date      time   latitude   longitude  fuel  interior  \\\n",
            "0       151FRH  2012-06-01  20:58:56  45.510180 -122.675216    33         1   \n",
            "1       151FRH  2012-06-01  22:58:03  45.514420 -122.654003    33         1   \n",
            "10      151FRH  2012-06-02  01:15:02  45.514420 -122.654003    33         1   \n",
            "11      151FRH  2012-06-02  01:45:03  45.533480 -122.604074    30         0   \n",
            "134     151FRH  2012-06-03  10:45:02  45.523880 -122.650722   100         1   \n",
            "...        ...         ...       ...        ...         ...   ...       ...   \n",
            "582195  511FSK  2012-06-29  14:00:08  45.530834 -122.679443    66         1   \n",
            "582209  511FSK  2012-06-29  17:30:06  45.530834 -122.679443    66         1   \n",
            "582210  511FSK  2012-06-29  18:30:05  45.561992 -122.694798    63         1   \n",
            "582301  511FSK  2012-06-30  17:15:06  45.561992 -122.694798    63         1   \n",
            "582302  511FSK  2012-06-30  17:45:07  45.518834 -122.683236    63         1   \n",
            "\n",
            "        exterior  note group_id  \n",
            "0              1     1        0  \n",
            "1              1     2        0  \n",
            "10             1     1        1  \n",
            "11             0     2        1  \n",
            "134            1     1        2  \n",
            "...          ...   ...      ...  \n",
            "582195         1     2    15234  \n",
            "582209         1     1    15235  \n",
            "582210         1     2    15235  \n",
            "582301         1     1    15236  \n",
            "582302         1     2    15236  \n",
            "\n",
            "[32083 rows x 10 columns]\n"
          ]
        }
      ]
    },
    {
      "cell_type": "code",
      "source": [
        "def define_group(group):\n",
        "    # get the first row of note_value_1 rows in a group\n",
        "    row_first_1 = group[group['note'] == 1].head(1)\n",
        "    # get the only note_value_2 rows in a group\n",
        "    row_only_2 = group[group['note'] == 2]\n",
        "    # combine the two rows, that is, there will be fix mode, one note_value_1 row, and then one note_value_2 row in a group\n",
        "    return pd.concat([row_first_1, row_only_2])\n",
        "\n",
        "# get a new dataset, which get rid og the over-time trips\n",
        "filtered_df2 = filtered_df.groupby('group_id', as_index=False).apply(define_group).reset_index(drop=True)"
      ],
      "metadata": {
        "id": "k3qE545seoBw"
      },
      "execution_count": null,
      "outputs": []
    },
    {
      "cell_type": "code",
      "source": [
        "print(filtered_df2.head(35))\n",
        "#we can see that license \"151FRH\", date \"2012-06-06\", time point \"08:00:04\" has been got rid of\n",
        "#which was between time points \"07:15:07\" and \"09:15:03\""
      ],
      "metadata": {
        "colab": {
          "base_uri": "https://localhost:8080/"
        },
        "id": "ykwzZrJde02u",
        "outputId": "e3233a08-bc88-441e-f75a-81b0f2c929fc"
      },
      "execution_count": null,
      "outputs": [
        {
          "output_type": "stream",
          "name": "stdout",
          "text": [
            "   license        date      time   latitude   longitude  fuel  interior  \\\n",
            "0   151FRH  2012-06-01  20:58:56  45.510180 -122.675216    33         1   \n",
            "1   151FRH  2012-06-01  22:58:03  45.514420 -122.654003    33         1   \n",
            "2   151FRH  2012-06-02  01:15:02  45.514420 -122.654003    33         1   \n",
            "3   151FRH  2012-06-02  01:45:03  45.533480 -122.604074    30         0   \n",
            "4   151FRH  2012-06-03  10:45:02  45.523880 -122.650722   100         1   \n",
            "5   151FRH  2012-06-03  11:15:03  45.523861 -122.698368   100         1   \n",
            "6   151FRH  2012-06-03  16:30:03  45.523861 -122.698368   100         1   \n",
            "7   151FRH  2012-06-03  16:45:03  45.524908 -122.689948   100         1   \n",
            "8   151FRH  2012-06-03  18:30:03  45.524908 -122.689948   100         1   \n",
            "9   151FRH  2012-06-03  19:15:03  45.559033 -122.644220   100         1   \n",
            "10  151FRH  2012-06-03  20:45:03  45.559033 -122.644220   100         1   \n",
            "11  151FRH  2012-06-03  21:45:03  45.522510 -122.689915   100         1   \n",
            "12  151FRH  2012-06-04  08:30:04  45.522510 -122.689915   100         1   \n",
            "13  151FRH  2012-06-04  09:00:04  45.518857 -122.683832   100         1   \n",
            "14  151FRH  2012-06-04  12:00:05  45.518857 -122.683832   100         1   \n",
            "15  151FRH  2012-06-04  12:30:03  45.531230 -122.652590   100         1   \n",
            "16  151FRH  2012-06-04  15:30:04  45.531230 -122.652590   100         1   \n",
            "17  151FRH  2012-06-04  16:00:04  45.523530 -122.688528   100         1   \n",
            "18  151FRH  2012-06-04  17:00:03  45.523530 -122.688528   100         1   \n",
            "19  151FRH  2012-06-04  17:30:03  45.526375 -122.685833   100         1   \n",
            "20  151FRH  2012-06-04  18:00:03  45.526375 -122.685833   100         1   \n",
            "21  151FRH  2012-06-04  18:30:04  45.536524 -122.648383   100         1   \n",
            "22  151FRH  2012-06-05  20:00:04  45.536524 -122.648383   100         1   \n",
            "23  151FRH  2012-06-05  20:30:04  45.520845 -122.682392   100         1   \n",
            "24  151FRH  2012-06-05  22:15:03  45.520845 -122.682392   100         1   \n",
            "25  151FRH  2012-06-05  23:00:05  45.508702 -122.681880   100         1   \n",
            "26  151FRH  2012-06-06  00:30:03  45.508702 -122.681880   100         1   \n",
            "27  151FRH  2012-06-06  01:00:04  45.495214 -122.670797   100         1   \n",
            "28  151FRH  2012-06-06  07:15:07  45.495214 -122.670797   100         1   \n",
            "29  151FRH  2012-06-06  09:15:03  45.521530 -122.679702    93         1   \n",
            "30  151FRH  2012-06-06  11:30:04  45.521530 -122.679702    93         1   \n",
            "31  151FRH  2012-06-06  11:45:03  45.531282 -122.682412    93         1   \n",
            "32  151FRH  2012-06-06  12:45:03  45.531282 -122.682412    93         1   \n",
            "33  151FRH  2012-06-06  13:30:04  45.531285 -122.682288    93         1   \n",
            "34  151FRH  2012-06-06  15:00:05  45.531285 -122.682288    93         1   \n",
            "\n",
            "    exterior  note group_id  \n",
            "0          1     1        0  \n",
            "1          1     2        0  \n",
            "2          1     1        1  \n",
            "3          0     2        1  \n",
            "4          1     1        2  \n",
            "5          1     2        2  \n",
            "6          1     1        3  \n",
            "7          1     2        3  \n",
            "8          1     1        4  \n",
            "9          1     2        4  \n",
            "10         1     1        5  \n",
            "11         1     2        5  \n",
            "12         1     1        6  \n",
            "13         1     2        6  \n",
            "14         1     1        7  \n",
            "15         1     2        7  \n",
            "16         1     1        8  \n",
            "17         1     2        8  \n",
            "18         1     1        9  \n",
            "19         1     2        9  \n",
            "20         1     1       10  \n",
            "21         1     2       10  \n",
            "22         1     1       11  \n",
            "23         1     2       11  \n",
            "24         1     1       12  \n",
            "25         1     2       12  \n",
            "26         1     1       13  \n",
            "27         1     2       13  \n",
            "28         1     1       14  \n",
            "29         1     2       14  \n",
            "30         1     1       15  \n",
            "31         1     2       15  \n",
            "32         1     1       16  \n",
            "33         1     2       16  \n",
            "34         1     1       17  \n"
          ]
        }
      ]
    },
    {
      "cell_type": "code",
      "source": [
        "# check how many rows of the new dataset\n",
        "print(filtered_df2.shape)"
      ],
      "metadata": {
        "colab": {
          "base_uri": "https://localhost:8080/"
        },
        "id": "9lHQK6D-iG4m",
        "outputId": "9c2639fe-8923-4277-993c-cf8c374b07df"
      },
      "execution_count": null,
      "outputs": [
        {
          "output_type": "stream",
          "name": "stdout",
          "text": [
            "(30474, 10)\n"
          ]
        }
      ]
    },
    {
      "cell_type": "markdown",
      "source": [
        "Delete the overnight trips (Optional)"
      ],
      "metadata": {
        "id": "Ptbw63hKgSIW"
      }
    },
    {
      "cell_type": "code",
      "source": [
        "#filter out the different date records in each group, creating a new dataset\n",
        "filtered_df3 =filtered_df2.groupby('group_id').filter(lambda x: x['date'].nunique() == 1)"
      ],
      "metadata": {
        "id": "hDTgftRsjIPG"
      },
      "execution_count": null,
      "outputs": []
    },
    {
      "cell_type": "code",
      "source": [
        "print(filtered_df3.shape) #there ARE records filtered out, that is, there ARE overnight records."
      ],
      "metadata": {
        "colab": {
          "base_uri": "https://localhost:8080/"
        },
        "id": "_p9puT-ugvp6",
        "outputId": "c253fe59-8182-4657-c704-41fb62e2ebac"
      },
      "execution_count": null,
      "outputs": [
        {
          "output_type": "stream",
          "name": "stdout",
          "text": [
            "(29446, 10)\n"
          ]
        }
      ]
    },
    {
      "cell_type": "code",
      "source": [
        "#check the filtered out rows\n",
        "filtered_df3_complement = filtered_df2.groupby('group_id').filter(lambda x: x['date'].nunique() > 1)\n",
        "\n",
        "print(filtered_df3_complement.head())"
      ],
      "metadata": {
        "colab": {
          "base_uri": "https://localhost:8080/"
        },
        "id": "V-i3xuEpgvw5",
        "outputId": "3badc1da-3ec5-4eb2-c144-1acd4d7885ef"
      },
      "execution_count": null,
      "outputs": [
        {
          "output_type": "stream",
          "name": "stdout",
          "text": [
            "    license        date      time   latitude   longitude  fuel  interior  \\\n",
            "84   151FRH  2012-06-12  23:45:03  45.533820 -122.685521   100         1   \n",
            "85   151FRH  2012-06-13  00:00:05  45.533903 -122.685473   100         1   \n",
            "106  151FRH  2012-06-19  19:00:04  45.555451 -122.687037    78         1   \n",
            "107  151FRH  2012-06-20  10:45:03  45.554385 -122.682160    78         1   \n",
            "122  151FRH  2012-06-24  21:45:03  45.486210 -122.676724    63         1   \n",
            "\n",
            "     exterior  note group_id  \n",
            "84          0     1       42  \n",
            "85          1     2       42  \n",
            "106         1     1       53  \n",
            "107         1     2       53  \n",
            "122         1     1       61  \n"
          ]
        }
      ]
    },
    {
      "cell_type": "markdown",
      "source": [
        "# Build a new dataset"
      ],
      "metadata": {
        "id": "5k3nMlBgymOd"
      }
    },
    {
      "cell_type": "markdown",
      "source": [
        "Delete the groups which have long time gap\n",
        "<br> Loss track for long, so that the records of distance and end time is not exact"
      ],
      "metadata": {
        "id": "ABPUfDn9w1BC"
      }
    },
    {
      "cell_type": "markdown",
      "source": [
        "create a newdataset for each group, which have columns, date, time, duration, distance, fuel, interior, exterior. The date, time is the same as the first row of each group, the duration is the gap between the time in two records, the distance is the square root of the sum of (longitude1-longitude2) square and (latitude1-latitude2) square. The fuel, interior and exterior is all the result of the first row."
      ],
      "metadata": {
        "id": "_UVo0ZiQfgMv"
      }
    },
    {
      "cell_type": "markdown",
      "source": [
        "Calculate the duration of the trip"
      ],
      "metadata": {
        "id": "iEexfCjWfm-e"
      }
    },
    {
      "cell_type": "code",
      "source": [
        "def duration_function(start_date, start_time, end_date, end_time):\n",
        "    date = '%Y-%m-%d'\n",
        "    time = '%H:%M:%S'\n",
        "    # Combine date and time\n",
        "    new_time = f'{date} {time}'\n",
        "\n",
        "    # Parse the start and end date-times\n",
        "    start = datetime.strptime(f\"{start_date} {start_time}\", new_time)\n",
        "    end = datetime.strptime(f\"{end_date} {end_time}\", new_time)\n",
        "\n",
        "    # Calculate the timedelta and return the duration in hours\n",
        "    duration_trip = end - start\n",
        "    return duration_trip.total_seconds() / 60  #per minutes"
      ],
      "metadata": {
        "id": "vvijZqBmgXbG"
      },
      "execution_count": null,
      "outputs": []
    },
    {
      "cell_type": "markdown",
      "source": [
        "Caluculate the distance"
      ],
      "metadata": {
        "id": "g9CjSKNwimzA"
      }
    },
    {
      "cell_type": "code",
      "source": [
        "def distance_function(lat1, lon1, lat2, lon2):\n",
        "    return sqrt((lon2 - lon1) ** 2 + (lat2 - lat1) ** 2)"
      ],
      "metadata": {
        "id": "UAmMsCH2lyIY"
      },
      "execution_count": null,
      "outputs": []
    },
    {
      "cell_type": "markdown",
      "source": [
        "Set new dataset"
      ],
      "metadata": {
        "id": "AUaxx7IYzEoD"
      }
    },
    {
      "cell_type": "code",
      "source": [
        "new_df = []\n",
        "for group_id, group in filtered_df2.groupby('group_id'):\n",
        "    #if len(group) == 2: #to check whether there are only two records in a group, but it is not neccessary\n",
        "        first_row = group.iloc[0]\n",
        "        second_row = group.iloc[1]\n",
        "        group_id=first_row['group_id']\n",
        "        license = first_row['license']\n",
        "        date = first_row['date'] #the date of pick-up is the date of the first row\n",
        "        time = first_row['time'] #the time of pick up is the time of the first row\n",
        "        trip_duration = duration_function(first_row['date'],  first_row['time'],  second_row['date'], second_row['time'])\n",
        "        trip_distance = distance_function(first_row['latitude'], first_row['longitude'], second_row['latitude'], second_row['longitude'])\n",
        "        longitude = first_row['longitude']\n",
        "        latitude = first_row['latitude']\n",
        "        fuel = first_row['fuel'] #the fuel(battery level) of pick-up is that of the first row\n",
        "        interior = first_row['interior'] #also, maintain that of the first row\n",
        "        exterior = first_row['exterior'] #maintain still\n",
        "\n",
        "        # Create a new DataFrame for the group\n",
        "        individual_group = pd.DataFrame({\n",
        "            'license':[license],\n",
        "            'date': [date],\n",
        "            'time': [time],\n",
        "            'longitude':[longitude],\n",
        "            'latitude':[latitude],\n",
        "            'duration': [trip_duration],\n",
        "            'distance': [trip_distance],\n",
        "            'fuel': [fuel],\n",
        "            'interior': [interior],\n",
        "            'exterior': [exterior]\n",
        "        })\n",
        "\n",
        "        new_df.append(individual_group)\n",
        "\n",
        "#concat many individual groups to one group\n",
        "final_df = pd.concat(new_df).reset_index(drop=True)\n",
        "final_df.to_csv('final_df.csv', index=False)\n"
      ],
      "metadata": {
        "id": "Wd1vHnPXw0mE"
      },
      "execution_count": null,
      "outputs": []
    },
    {
      "cell_type": "code",
      "source": [
        "print(final_df.head(30))"
      ],
      "metadata": {
        "colab": {
          "base_uri": "https://localhost:8080/"
        },
        "id": "Z0KiL8GLkkMR",
        "outputId": "0b66b1c7-1691-44c7-d4d3-879de6a482ad"
      },
      "execution_count": null,
      "outputs": [
        {
          "output_type": "stream",
          "name": "stdout",
          "text": [
            "   license        date      time   longitude   latitude    duration  distance  \\\n",
            "0   151FRH  2012-06-01  20:58:56 -122.675216  45.510180  119.116667  0.021632   \n",
            "1   151FRH  2012-06-02  01:15:02 -122.654003  45.514420   30.016667  0.053443   \n",
            "2   151FRH  2012-06-03  10:45:02 -122.650722  45.523880   30.016667  0.047646   \n",
            "3   151FRH  2012-06-03  16:30:03 -122.698368  45.523861   15.000000  0.008484   \n",
            "4   151FRH  2012-06-03  18:30:03 -122.689948  45.524908   45.000000  0.057058   \n",
            "5   151FRH  2012-06-03  20:45:03 -122.644220  45.559033   60.000000  0.058498   \n",
            "6   151FRH  2012-06-04  08:30:04 -122.689915  45.522510   30.000000  0.007095   \n",
            "7   151FRH  2012-06-04  12:00:05 -122.683832  45.518857   29.966667  0.033603   \n",
            "8   151FRH  2012-06-04  15:30:04 -122.652590  45.531230   30.000000  0.036753   \n",
            "9   151FRH  2012-06-04  17:00:03 -122.688528  45.523530   30.000000  0.003919   \n",
            "10  151FRH  2012-06-04  18:00:03 -122.685833  45.526375   30.016667  0.038800   \n",
            "11  151FRH  2012-06-05  20:00:04 -122.648383  45.536524   30.000000  0.037449   \n",
            "12  151FRH  2012-06-05  22:15:03 -122.682392  45.520845   45.033333  0.012153   \n",
            "13  151FRH  2012-06-06  00:30:03 -122.681880  45.508702   30.016667  0.017458   \n",
            "14  151FRH  2012-06-06  07:15:07 -122.670797  45.495214  119.933333  0.027782   \n",
            "15  151FRH  2012-06-06  11:30:04 -122.679702  45.521530   14.983333  0.010121   \n",
            "16  151FRH  2012-06-06  12:45:03 -122.682412  45.531282   45.016667  0.000124   \n",
            "17  151FRH  2012-06-06  15:00:05 -122.682288  45.531285   44.966667  0.086954   \n",
            "18  151FRH  2012-06-07  02:15:02 -122.601213  45.562714   30.016667  0.086211   \n",
            "19  151FRH  2012-06-07  04:15:03 -122.681380  45.531004   15.000000  0.013400   \n",
            "20  151FRH  2012-06-07  06:30:03 -122.691861  45.522655   30.016667  0.015074   \n",
            "21  151FRH  2012-06-07  08:30:04 -122.679984  45.513371   30.000000  0.022249   \n",
            "22  151FRH  2012-06-07  13:30:05 -122.686551  45.534629   14.966667  0.018368   \n",
            "23  151FRH  2012-06-07  14:45:03 -122.680471  45.517296   30.000000  0.095634   \n",
            "24  151FRH  2012-06-07  16:15:03 -122.584843  45.518336   45.016667  0.041505   \n",
            "25  151FRH  2012-06-07  18:15:03 -122.625936  45.512506  165.016667  0.000439   \n",
            "26  151FRH  2012-06-07  22:15:03 -122.626027  45.512936   30.000000  0.029697   \n",
            "27  151FRH  2012-06-08  02:30:04 -122.645803  45.535090   29.983333  0.039285   \n",
            "28  151FRH  2012-06-08  09:15:03 -122.679790  45.554794   59.983333  0.031340   \n",
            "29  151FRH  2012-06-08  14:30:04 -122.683498  45.523673   14.983333  0.011628   \n",
            "\n",
            "    fuel  interior  exterior  \n",
            "0     33         1         1  \n",
            "1     33         1         1  \n",
            "2    100         1         1  \n",
            "3    100         1         1  \n",
            "4    100         1         1  \n",
            "5    100         1         1  \n",
            "6    100         1         1  \n",
            "7    100         1         1  \n",
            "8    100         1         1  \n",
            "9    100         1         1  \n",
            "10   100         1         1  \n",
            "11   100         1         1  \n",
            "12   100         1         1  \n",
            "13   100         1         1  \n",
            "14   100         1         1  \n",
            "15    93         1         1  \n",
            "16    93         1         1  \n",
            "17    93         1         1  \n",
            "18    87         1         1  \n",
            "19    81         1         1  \n",
            "20    81         1         1  \n",
            "21    78         1         1  \n",
            "22    78         1         1  \n",
            "23    75         1         1  \n",
            "24    69         1         1  \n",
            "25    66         1         1  \n",
            "26    63         1         1  \n",
            "27    63         1         1  \n",
            "28    60         1         1  \n",
            "29    57         1         1  \n"
          ]
        }
      ]
    },
    {
      "cell_type": "code",
      "source": [
        "#files.download('final_df.csv')"
      ],
      "metadata": {
        "id": "2ygcFdu9wzFb"
      },
      "execution_count": null,
      "outputs": []
    },
    {
      "cell_type": "markdown",
      "source": [
        "Deleted the long-duration(more than 2 hours) trip. They might fail to be recorded within the two hours, for example, the target vehicle has dropped off within one hour, but 24 hours later, another record has been uploaded."
      ],
      "metadata": {
        "id": "_f8XgNdymXW3"
      }
    },
    {
      "cell_type": "code",
      "source": [
        "print(len(final_df))"
      ],
      "metadata": {
        "colab": {
          "base_uri": "https://localhost:8080/"
        },
        "id": "n4imNTHEmWoQ",
        "outputId": "742f0ec3-ab57-4d8b-8677-30a08d33961c"
      },
      "execution_count": null,
      "outputs": [
        {
          "output_type": "stream",
          "name": "stdout",
          "text": [
            "15237\n"
          ]
        }
      ]
    },
    {
      "cell_type": "code",
      "source": [
        "final_df_1 = final_df[final_df['duration'] <= 120]"
      ],
      "metadata": {
        "id": "H9XVNr32o_cB"
      },
      "execution_count": null,
      "outputs": []
    },
    {
      "cell_type": "code",
      "source": [
        "print(len(final_df_1))"
      ],
      "metadata": {
        "colab": {
          "base_uri": "https://localhost:8080/"
        },
        "id": "QW9IXMeSp7M5",
        "outputId": "d306c35a-3f89-4a4c-817f-7ec9c94eb25e"
      },
      "execution_count": null,
      "outputs": [
        {
          "output_type": "stream",
          "name": "stdout",
          "text": [
            "14248\n"
          ]
        }
      ]
    },
    {
      "cell_type": "markdown",
      "source": [
        "# Find the nearby vehicles"
      ],
      "metadata": {
        "id": "AjRbReSyqEQX"
      }
    },
    {
      "cell_type": "code",
      "source": [],
      "metadata": {
        "id": "_yBS_2V8qJsC"
      },
      "execution_count": null,
      "outputs": []
    }
  ]
}